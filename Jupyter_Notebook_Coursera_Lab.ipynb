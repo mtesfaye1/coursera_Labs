{
 "cells": [
  {
   "cell_type": "markdown",
   "metadata": {
    "collapsed": true
   },
   "source": [
    "# My Jupyter Notebook on IBM Watson Studio"
   ]
  },
  {
   "cell_type": "markdown",
   "metadata": {},
   "source": [
    "## Melese Tesfaye <br/>\n",
    "Current Occupation - Airline Data Migration Expert <br/>\n",
    "Desired Occupation - Data Scientist"
   ]
  },
  {
   "cell_type": "markdown",
   "metadata": {},
   "source": [
    "*I developed interest in data science after working for many years in transforming, analazing, and<br/>migrating data between systems.\n",
    "While I believe data science will be trenendously helpful in my current role,<br/>I also believe it is the next step in my career progression.*"
   ]
  },
  {
   "cell_type": "markdown",
   "metadata": {},
   "source": [
    "### The following code finds the square root of 2 using the pow function"
   ]
  },
  {
   "cell_type": "code",
   "execution_count": 3,
   "metadata": {},
   "outputs": [
    {
     "data": {
      "text/plain": [
       "1.4142135623730951"
      ]
     },
     "execution_count": 3,
     "metadata": {},
     "output_type": "execute_result"
    }
   ],
   "source": [
    "pow(2, 0.5)"
   ]
  },
  {
   "cell_type": "markdown",
   "metadata": {},
   "source": [
    "***\n",
    "<br/><br/>\n",
    "\n",
    "Shopping list:\n",
    "* eggs (1 dozen)\n",
    "* meat (1 pound)\n",
    "* broccoli crowns (1 count)\n",
    "<br/><br/>\n",
    "\n",
    "Steps to recreate the problem:\n",
    "1. Login to the database server\n",
    "2. Issue the following query `\"UPDATE X SET Y = 5;\"`\n",
    "3. Error \"ERRXXXX\" should return.\n",
    "<br/><br/>\n",
    "\n",
    "### Amazon Data Science Book List:\n",
    "\n",
    "*Markdown seems to center tables by default*\n",
    "\n",
    "| Title                                    | ISBN-13        |\n",
    "| :--------------------------------------- | -------------- |\n",
    "| Designing Machine Learning Systems       | 978-1098107963 |\n",
    "| Practical Data Science with Python       | 978-1801071970 |\n",
    "| Practical Statistics for Data Scientists | 978-1492072942 |\n",
    "\n",
    "<br/><br/>\n",
    "\n",
    "Currently taking Data Science course @ <https://www.coursera.com>\n",
    "\n"
   ]
  },
  {
   "cell_type": "code",
   "execution_count": 7,
   "metadata": {},
   "outputs": [],
   "source": [
    "!jt -t chesterish #preferred\n",
    "# !jt -t solarizedl #second preference\n",
    "\n"
   ]
  }
 ],
 "metadata": {
  "kernelspec": {
   "display_name": "Python 3 (ipykernel)",
   "language": "python",
   "name": "python3"
  },
  "language_info": {
   "codemirror_mode": {
    "name": "ipython",
    "version": 3
   },
   "file_extension": ".py",
   "mimetype": "text/x-python",
   "name": "python",
   "nbconvert_exporter": "python",
   "pygments_lexer": "ipython3",
   "version": "3.10.4"
  }
 },
 "nbformat": 4,
 "nbformat_minor": 1
}
